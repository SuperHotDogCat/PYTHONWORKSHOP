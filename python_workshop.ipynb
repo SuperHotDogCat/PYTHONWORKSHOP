{
 "cells": [
  {
   "cell_type": "markdown",
   "metadata": {},
   "source": [
    "# Python WorkShop\n",
    "\n",
    "### 目次<br>\n",
    "\n",
    "- Python基本文法<br>\n",
    "    - 基本演算\n",
    "    - リスト, タプル, 辞書\n",
    "    - if, for, while文\n",
    "    - 関数\n",
    "    - 例外処理\n",
    "    - クラス\n",
    "- Pythonの有名ライブラリ<br>\n",
    "    - numpy(scipy), collections\n",
    "    - matplotlib\n",
    "- Python環境構築<br>\n",
    "    - 仮想環境(venv)\n",
    "\n",
    "- 扱わないこと\n",
    "<br>Pythonのビット演算<br><br>\n",
    "sklearnなどの機械学習ライブラリ(時間の関係で扱いません、でもsklearnなどのライブラリ<br>をただ使ってきただけの人間には刺さる内容にしているはずです)<br><br>\n",
    "ファイルの入出力(時間の関係で扱いません)<br><br>\n",
    "with文(時間の関係で...)\n",
    "generator, iterator(時間の関係で...)"
   ]
  },
  {
   "cell_type": "markdown",
   "metadata": {},
   "source": [
    "#### Python基本文法"
   ]
  },
  {
   "cell_type": "markdown",
   "metadata": {},
   "source": [
    "#### 基本演算\n",
    "代入\n",
    "```python\n",
    "x = 3\n",
    "```\n",
    "と書くことでxには値が変更されない限り3という値が入っています。<br>\n",
    "printという関数で中身を確認することができます。<br>\n",
    "難しい話になりますがこの時の出力先は標準出力と呼ばれています。<br>"
   ]
  },
  {
   "cell_type": "code",
   "execution_count": 1,
   "metadata": {},
   "outputs": [
    {
     "name": "stdout",
     "output_type": "stream",
     "text": [
      "3\n"
     ]
    }
   ],
   "source": [
    "x = 3\n",
    "print(x)"
   ]
  },
  {
   "cell_type": "markdown",
   "metadata": {},
   "source": [
    "数値型<br>\n",
    "Pythonではint, float, complex(大まかに整数, 実数, 虚数)という数字の型が用意されています。<br>\n",
    "type関数でそれぞれの数の型を確認することができます。<br>\n",
    "また、コードに関係ない部分は「#」を置くことで一行のコメントアウトすることが出来、<br>\n",
    "「\"\"\"」で複数行にわたってコメントアウトが可能になります<br>"
   ]
  },
  {
   "cell_type": "code",
   "execution_count": 2,
   "metadata": {},
   "outputs": [
    {
     "name": "stdout",
     "output_type": "stream",
     "text": [
      "3\n",
      "10.1\n",
      "(1+2j)\n",
      "<class 'int'>\n",
      "<class 'float'>\n",
      "<class 'complex'>\n"
     ]
    }
   ],
   "source": [
    "x = 3\n",
    "y = 10.1\n",
    "z = 1+2j #複素数の場合はiではなくjで複素数化することに注意\n",
    "print(x)\n",
    "print(y)\n",
    "print(z)\n",
    "print(type(x))\n",
    "print(type(y))\n",
    "print(type(z))"
   ]
  },
  {
   "cell_type": "markdown",
   "metadata": {},
   "source": [
    "数値型の代表的な演算として+, -, *, /, //, %, **があげられます。+, -は数学で使われる記号と同じです。<br>\n",
    "*は掛け算を計算します。<br>\n",
    "/は割り算を計算します。答えを小数まで出力します<br>\n",
    "//は割り算の商を計算します。<br>\n",
    "%は割り算の余りを計算します。<br>\n",
    "**は乗数を計算します<br>"
   ]
  },
  {
   "cell_type": "code",
   "execution_count": 3,
   "metadata": {},
   "outputs": [
    {
     "name": "stdout",
     "output_type": "stream",
     "text": [
      "13\n",
      "7\n",
      "30\n",
      "3.3333333333333335\n",
      "3\n",
      "1\n",
      "1000\n"
     ]
    }
   ],
   "source": [
    "x = 10\n",
    "y = 3\n",
    "print(x + y) #10 + 3\n",
    "print(x - y) #10 - 3\n",
    "print(x * y) #10 * 3\n",
    "print(x / y)#10 / 3\n",
    "print(x // y)#10 // 3\n",
    "print(x % y)#10を3で割った余り\n",
    "print(x ** y)# 10^3"
   ]
  },
  {
   "cell_type": "markdown",
   "metadata": {},
   "source": [
    "10 / 3の答えが本当は1/3≒0.3333333....ですが今回は3.3333333333333335となっています。<br>\n",
    "これはコンピューターが表現できる数値の限界の精度を超えたために生じる誤差になっています。<br>\n",
    "詳しくは[コンピュータで扱う数値の誤差について](https://www.foresight.jp/fe/column/about-error/)を参照してください"
   ]
  },
  {
   "cell_type": "markdown",
   "metadata": {},
   "source": [
    "文字列<br>\n",
    "「'」もしくは「\"」で囲んだものは文字列として解釈されます<br>\n",
    "文字列型はprint関数と組み合わせることで標準出力に日本語や英語を書くことができます。<br>\n",
    "文字列は足し算が定義でき、文字列の長さはlen関数で取得ができます"
   ]
  },
  {
   "cell_type": "code",
   "execution_count": 4,
   "metadata": {},
   "outputs": [
    {
     "name": "stdout",
     "output_type": "stream",
     "text": [
      "Hello\n",
      "HelloWorld\n",
      "Hello2023\n",
      "5\n"
     ]
    }
   ],
   "source": [
    "string1 = \"Hello\"\n",
    "string2 = \"World\"\n",
    "print(string1) #Helloと出力される\n",
    "print(string1 + string2) #文字列の足し算は文字列の結合となる\n",
    "print(string1 + str(2023)) #str関数で数値などを文字列に変換することができる\n",
    "print(len(string1)) #string1の文字列の長さがわかる"
   ]
  },
  {
   "cell_type": "markdown",
   "metadata": {},
   "source": [
    "文字列のフォーマット<br>\n",
    "f\"{a}, {b}\"、もしくは\"{}, {}\".format(a, b)とすることで、<br>\n",
    "文字列ではないものを文字列として解釈させることが可能になる。<br>\n",
    "個人的にはミスが減るので前者推奨"
   ]
  },
  {
   "cell_type": "code",
   "execution_count": 5,
   "metadata": {},
   "outputs": [
    {
     "name": "stdout",
     "output_type": "stream",
     "text": [
      "2023-2024\n",
      "2023-2024\n"
     ]
    }
   ],
   "source": [
    "a = 2023\n",
    "b = 2024\n",
    "print(f\"{a}-{b}\")\n",
    "print(\"{}-{}\".format(a, b))"
   ]
  },
  {
   "cell_type": "markdown",
   "metadata": {},
   "source": [
    "真偽値(bool)<br>\n",
    "ある条件文に対してその条件が正しい場合にはTrue, 間違っている場合にはFalseを出力する<br>\n",
    "条件文などに使われる演算子として「>」, 「<」, 「==」などがあげられ<br>\n",
    "「>」や「<」は不等号を表し、「1>3」は1が3より大きいかを判定する演算子である。<br>\n",
    "「==」は等号を表し、「1==3」は1と3が等しいかを判定する演算子である<br>"
   ]
  },
  {
   "cell_type": "code",
   "execution_count": 6,
   "metadata": {},
   "outputs": [
    {
     "name": "stdout",
     "output_type": "stream",
     "text": [
      "True\n",
      "False\n",
      "False\n",
      "True\n"
     ]
    }
   ],
   "source": [
    "a = True\n",
    "print(a) \n",
    "print(1 > 3) #1は3より小さいのでFalseが代入される\n",
    "print(1 == 3)\n",
    "a = 1 == 1 #左の文はaに1==1の結果が代入されることに注意\n",
    "print(a)"
   ]
  },
  {
   "cell_type": "markdown",
   "metadata": {},
   "source": [
    "真偽値についての詳しい解説は[Pythonの真偽値bool型（True, False）と他の型との変換・判定](https://note.nkmk.me/python-bool-true-false-usage/)を参照"
   ]
  },
  {
   "cell_type": "markdown",
   "metadata": {},
   "source": [
    "#### リスト, タプル, 辞書"
   ]
  },
  {
   "cell_type": "markdown",
   "metadata": {},
   "source": [
    "リスト<br>\n",
    "リストは[1,2,3,4]のように[]の中に要素を配置する<br>\n",
    "Pythonでは他の言語(例えばC言語のように配列の要素数をあらかじめ指定する必要はない)<br>"
   ]
  },
  {
   "cell_type": "code",
   "execution_count": 7,
   "metadata": {},
   "outputs": [
    {
     "name": "stdout",
     "output_type": "stream",
     "text": [
      "1\n",
      "[1, 2]\n",
      "[1, 3]\n",
      "4\n",
      "[4, 3, 2, 1]\n",
      "[1, 2, 3, 4, 5]\n",
      "[1, 2, 3, 4, [5, 6]]\n",
      "[1, 2, 3, 4, 5, 6]\n",
      "[1, 2, 3, 4, 5, 6]\n",
      "4\n"
     ]
    }
   ],
   "source": [
    "a = [1,2,3,4]\n",
    "print(a[0]) #要素のアクセスは List[index]のようにおこなうこの時, \n",
    "            #最初の要素は0, 二番目の要素は1, ...のように0始まりのindexであることに注意\n",
    "print(a[0:2]) # start_index:end_indexでstart_indexからend_index-1までの要素を出してくれる。この場合index = 0, 1が出る。\n",
    "print(a[0:4:2]) # start_index:end_index:stepでstep飛ばしで数を出力する。この場合index = 0, 2の値が出る\n",
    "print(a[-1]) #indexには負の数値も使える。-1とすると,リストの一番末尾のものを取り出すことを意味する\n",
    "print(a[::-1]) #覚えておくと良い記法, リストの順番を逆にするときはList[::-1]\n",
    "a.append(5)\n",
    "print(a) #要素はappendで追加される\n",
    "del a[4] #要素はdelで消す\n",
    "b = [5, 6]\n",
    "a.append(b)\n",
    "print(a) #appendはただ単純に要素を追加する\n",
    "del a[4] #要素はdelで消す\n",
    "a.extend(b) #extendはリストを入れるとリストの中身を展開する\n",
    "print(a)\n",
    "del a[5], a[4]\n",
    "print(a + b) #リストは足し算をするとextendと似た挙動を示す。\n",
    "print(len(a)) #リストの要素数はlen関数で取得する"
   ]
  },
  {
   "cell_type": "markdown",
   "metadata": {},
   "source": [
    "リストを使う際の注意点<br>\n",
    "あるリスト一つを作り, そのリストの要素を変更する前と変更した後でどうなるかを見てみよう<br>\n",
    "この時、オブジェクトのidを確認するid関数でidを見てみよう"
   ]
  },
  {
   "cell_type": "code",
   "execution_count": 8,
   "metadata": {},
   "outputs": [
    {
     "name": "stdout",
     "output_type": "stream",
     "text": [
      "List a: [1, 2, 3, 4], List b: [1, 2, 3, 4]\n",
      "List a's id: 4565092032, List b's id: 4565092032\n",
      "List a: [6, 2, 3, 4], List b: [6, 2, 3, 4]\n",
      "List a's id: 4565092032, List b's id: 4565092032\n"
     ]
    }
   ],
   "source": [
    "a = [1,2,3,4]\n",
    "b = a\n",
    "print(f\"List a: {a}, List b: {b}\")\n",
    "print(f\"List a's id: {id(a)}, List b's id: {id(b)}\")\n",
    "b[0] = 6 #リストbの要素を変更\n",
    "print(f\"List a: {a}, List b: {b}\") #aの要素が変化してしまっている\n",
    "print(f\"List a's id: {id(a)}, List b's id: {id(b)}\")"
   ]
  },
  {
   "cell_type": "markdown",
   "metadata": {},
   "source": [
    "リストbの要素の変化がリストaの要素に反映されているのはリストaとリストbのidが同一であるからと考えることができる。<br>\n",
    "これはC系の言語におけるポインタをb=aでは代入しているためである。<br>\n",
    "では整数はどうなのだろうか"
   ]
  },
  {
   "cell_type": "code",
   "execution_count": 9,
   "metadata": {},
   "outputs": [
    {
     "name": "stdout",
     "output_type": "stream",
     "text": [
      "int a: 5, int b: 5\n",
      "int a's id: 4384840776, int b's id: 4384840776, 5's id: 4384840776\n",
      "int a: 5, int b: 10\n",
      "int a's id: 4384840776, int b's id: 4384840936, 10's id: 4384840936\n"
     ]
    }
   ],
   "source": [
    "a = 5\n",
    "b = a\n",
    "print(f\"int a: {a}, int b: {b}\")\n",
    "print(f\"int a's id: {id(a)}, int b's id: {id(b)}, 5's id: {id(5)}\")\n",
    "b = 10\n",
    "print(f\"int a: {a}, int b: {b}\")\n",
    "print(f\"int a's id: {id(a)}, int b's id: {id(b)}, 10's id: {id(10)}\")"
   ]
  },
  {
   "cell_type": "markdown",
   "metadata": {},
   "source": [
    "Pythonではint, str, boolのオブジェクトはimmutableなオブジェクトと呼ばれ、固有のid値を持っている<br>\n",
    "このため数値ではb=aのような代入をした後にbの値を変化してもaの値は変化しない<br>\n",
    "immutableやmutableの概念に関しては別の文献を検索して調べてみてほしい"
   ]
  },
  {
   "cell_type": "markdown",
   "metadata": {},
   "source": [
    "リストの受け渡し方法は何通りかある。"
   ]
  },
  {
   "cell_type": "code",
   "execution_count": 10,
   "metadata": {},
   "outputs": [
    {
     "name": "stdout",
     "output_type": "stream",
     "text": [
      "List a: [1, 2, 3, 4], List b: [1, 2, 3, 4]\n",
      "List a's id: 4565250560, List b's id: 4565251520\n",
      "List a: [1, 2, 3, 4], List b: [1, 2, 3, 4]\n",
      "List a's id: 4565250560, List b's id: 4565251392\n",
      "List a: [1, 2, 3, 4], List b: [1, 2, 3, 4]\n",
      "List a's id: 4565250560, List b's id: 4565252608\n"
     ]
    }
   ],
   "source": [
    "import copy #copyを使った方法\n",
    "a = [1,2,3,4]\n",
    "b = a[:] #スライス記法を使った方法\n",
    "print(f\"List a: {a}, List b: {b}\")\n",
    "print(f\"List a's id: {id(a)}, List b's id: {id(b)}\")\n",
    "b = copy.copy(a)\n",
    "print(f\"List a: {a}, List b: {b}\")\n",
    "print(f\"List a's id: {id(a)}, List b's id: {id(b)}\")\n",
    "b = copy.deepcopy(a)\n",
    "print(f\"List a: {a}, List b: {b}\")\n",
    "print(f\"List a's id: {id(a)}, List b's id: {id(b)}\")"
   ]
  },
  {
   "cell_type": "markdown",
   "metadata": {},
   "source": [
    "copyとdeepcopyの違いは主に二次元配列やクラスを扱うときに重要となるが、今回は割愛する"
   ]
  },
  {
   "cell_type": "markdown",
   "metadata": {},
   "source": [
    "タプル<br>\n",
    "上で見たようにリストは値の変更に大きく影響を受ける。そのため、値の変更に影響を受けないものをタプルといい、<br>\n",
    "()の中に要素を配置して制作する"
   ]
  },
  {
   "cell_type": "code",
   "execution_count": 11,
   "metadata": {},
   "outputs": [
    {
     "name": "stdout",
     "output_type": "stream",
     "text": [
      "(1, 2, 3, 4)\n",
      "4\n"
     ]
    }
   ],
   "source": [
    "a = (1,2,3,4)\n",
    "print(a)\n",
    "print(len(a))"
   ]
  },
  {
   "cell_type": "markdown",
   "metadata": {},
   "source": [
    "要素を変更しようとすると以下のようなエラーを吐く\n",
    "```python\n",
    "a = (1,2,3,4)\n",
    "a[0] = 2\n",
    "---------------------------------------------------------------------------\n",
    "TypeError                                 Traceback (most recent call last)\n",
    "Cell In[53], line 2\n",
    "      1 a = (1,2,3,4)\n",
    "----> 2 a[0] = 2\n",
    "\n",
    "TypeError: 'tuple' object does not support item assignment\n",
    "```"
   ]
  },
  {
   "cell_type": "markdown",
   "metadata": {},
   "source": [
    "辞書<br>\n",
    "辞書は{\"Bob\":16, \"Mary\":18, \"Ken\": 17}のように{key: value}のように{}で囲んで定義する<br>"
   ]
  },
  {
   "cell_type": "code",
   "execution_count": 12,
   "metadata": {},
   "outputs": [
    {
     "name": "stdout",
     "output_type": "stream",
     "text": [
      "16\n",
      "dict_keys(['Bob', 'Mary', 'Ken'])\n",
      "dict_values([16, 18, 17])\n",
      "dict_items([('Bob', 16), ('Mary', 18), ('Ken', 17)])\n"
     ]
    }
   ],
   "source": [
    "dictionary = {\"Bob\":16, \"Mary\":18, \"Ken\": 17}\n",
    "print(dictionary[\"Bob\"]) #dict[key]でそのkeyのvalueを確認できる\n",
    "print(dictionary.keys()) #.keysメソッドでkeyを確認できる\n",
    "print(dictionary.values()) #.valuesメソッドでvalueを確認できる\n",
    "print(dictionary.items()) #.itemsで(key, value)のtupleで辞書の中身を確認できる\n",
    "#上で述べたkeys, values, itemsは後に解説するfor文で中身を取り出すときに使われる"
   ]
  },
  {
   "cell_type": "markdown",
   "metadata": {},
   "source": [
    "if文<br>\n",
    "if文は主に以下の形で使われる\n",
    "```python\n",
    "a = True\n",
    "b = False\n",
    "if a:\n",
    "    print(\"a is True.\")\n",
    "elif b:\n",
    "    print(\"a is False, but b is True.\")\n",
    "else:\n",
    "    print(\"Both are False.\")\n",
    "```\n",
    "まずif (条件文):の形で条件文の中身がTrueかを判断する, もしFalseならelifに移動し、elif (条件文):の条件文がTrueかどうかを判断する<br>\n",
    "もしFalseならelseに移動し、elseの中身を実行する。"
   ]
  },
  {
   "cell_type": "code",
   "execution_count": 13,
   "metadata": {},
   "outputs": [
    {
     "name": "stdout",
     "output_type": "stream",
     "text": [
      "a is True.\n"
     ]
    }
   ],
   "source": [
    "a = True\n",
    "b = False\n",
    "if a:\n",
    "    print(\"a is True.\") #この場合はaがTrueなのでここが実行される\n",
    "elif b:\n",
    "    print(\"a is False, but b is True.\")\n",
    "else:\n",
    "    print(\"Both are False.\")"
   ]
  },
  {
   "cell_type": "markdown",
   "metadata": {},
   "source": [
    "if, for, while文の中身では改行(インデント)をして半角スペースを置いたところからコードを書き始めます。<br>\n",
    "このインデントで仕切られた区間をブロックをいいます。<br>\n",
    "例えば、以下のように改行してないコードなどはエラーとなります。<br>\n",
    "半角スペースはVSCodeなどでは自動で調整してくれますが、Tabキーを押すことで半角4つ分のスペースを置くことができます。"
   ]
  },
  {
   "cell_type": "markdown",
   "metadata": {},
   "source": [
    "複数の条件を指定するときにはand, orなどが使えて、否定条件はnotが使えます。"
   ]
  },
  {
   "cell_type": "code",
   "execution_count": 14,
   "metadata": {},
   "outputs": [
    {
     "name": "stdout",
     "output_type": "stream",
     "text": [
      "aとbは共にTrueではないのでここが実行される\n",
      "aがTrueなのでここが実行される\n",
      "bはFalseなのでここが実行される\n"
     ]
    }
   ],
   "source": [
    "a = True\n",
    "b = False\n",
    "if a and b:\n",
    "    print(\"ここは実行されない\")\n",
    "else:\n",
    "    print(\"aとbは共にTrueではないのでここが実行される\")\n",
    "if a or b:\n",
    "    print(\"aがTrueなのでここが実行される\")\n",
    "else:\n",
    "    print(\"ここは実行されない\")\n",
    "if not b:\n",
    "    print(\"bはFalseなのでここが実行される\")\n",
    "else:\n",
    "    print(\"ここは実行されない\")"
   ]
  },
  {
   "cell_type": "markdown",
   "metadata": {},
   "source": [
    "```python\n",
    "a = True\n",
    "b = False\n",
    "if a:\n",
    "print(\"a is True.\")\n",
    "  Cell In[12], line 4\n",
    "    print(\"a is True.\") #この場合はaがTrueなのでここが実行される\n",
    "    ^\n",
    "IndentationError: expected an indented block after 'if' statement on line 3\n",
    "```"
   ]
  },
  {
   "cell_type": "markdown",
   "metadata": {},
   "source": [
    "for文<br>\n",
    "for文はfor A in B: という形で使われる。\n",
    "```python\n",
    "for A in B:\n",
    "    (処理)\n",
    "```\n",
    "最も多い形はrange関数を使うものであり、<br>\n",
    "```python\n",
    "for i in range(n):\n",
    "    (処理)\n",
    "```\n",
    "のようなものである。まずは書いてみて挙動を抑えよう"
   ]
  },
  {
   "cell_type": "code",
   "execution_count": 15,
   "metadata": {},
   "outputs": [
    {
     "name": "stdout",
     "output_type": "stream",
     "text": [
      "range(n)を使ったfor文\n",
      "0\n",
      "1\n",
      "2\n",
      "3\n",
      "Listを使ったfor文\n",
      "0\n",
      "1\n",
      "2\n",
      "3\n",
      "辞書を使ったfor文\n",
      "Bob\n",
      "Mary\n",
      "Ken\n",
      "辞書の.items()を使ったfor文\n",
      "Bob 16\n",
      "Mary 18\n",
      "Ken 17\n"
     ]
    }
   ],
   "source": [
    "n = 4\n",
    "print(\"range(n)を使ったfor文\")\n",
    "for i in range(n):\n",
    "    print(i)\n",
    "l = [0,1,2,3]\n",
    "print(\"Listを使ったfor文\")\n",
    "for i in l:\n",
    "    print(i)\n",
    "print(\"辞書を使ったfor文\")\n",
    "dictionary = {\"Bob\":16, \"Mary\":18, \"Ken\": 17}\n",
    "for key in dictionary:\n",
    "    print(key) #辞書はkeyが取り出される\n",
    "print(\"辞書の.items()を使ったfor文\")\n",
    "for key, value in dictionary.items():\n",
    "    print(key, value) #辞書はkeyが取り出される (key, value)というtupleをfor文では取り出しているが、forの前に2つ変数を置くことでtupleの2つの変数を代入している"
   ]
  },
  {
   "cell_type": "code",
   "execution_count": 16,
   "metadata": {},
   "outputs": [
    {
     "name": "stdout",
     "output_type": "stream",
     "text": [
      "range(4)の出力\n",
      "0\n",
      "1\n",
      "2\n",
      "3\n",
      "range(1, 4+1)の出力\n",
      "1\n",
      "2\n",
      "3\n",
      "4\n",
      "range(1, 4+1, 2)の出力\n",
      "1\n",
      "3\n",
      "range(4,1-1,-1)の出力\n",
      "4\n",
      "3\n",
      "2\n",
      "1\n"
     ]
    }
   ],
   "source": [
    "#もう少しrangeについて補足\n",
    "#range(n)は0からn-1までの数を取得するが、range(start, end)はstartからend-1までの数を取得する\n",
    "print(\"range(4)の出力\")\n",
    "for i in range(4):\n",
    "    print(i)\n",
    "print(\"range(1, 4+1)の出力\")\n",
    "for i in range(1, 4+1):\n",
    "    print(i)\n",
    "#range(start, end, step)でstartからend-1までstep飛ばしで出力する。stepには負の数を指定することも可能\n",
    "print(\"range(1, 4+1, 2)の出力\")\n",
    "for i in range(1, 4+1, 2):\n",
    "    print(i)\n",
    "print(\"range(4,1-1,-1)の出力\")\n",
    "for i in range(4,1-1,-1):\n",
    "    print(i)"
   ]
  },
  {
   "cell_type": "markdown",
   "metadata": {},
   "source": [
    "リスト内包表記<br>\n",
    "Pythonのコードでかなりみる書き方。例えばList = [1,2,3,4,5]という配列があったときその要素を二乗した要素を作りたいという状況を考える。<br>\n",
    "このとき、[x ** 2 for x in List]と書くと、Listを先頭から1要素ずつ読み出して、要素を二乗して新しいリストの要素にするという意味になる。"
   ]
  },
  {
   "cell_type": "code",
   "execution_count": 17,
   "metadata": {},
   "outputs": [
    {
     "name": "stdout",
     "output_type": "stream",
     "text": [
      "[1, 4, 9, 16, 25]\n"
     ]
    }
   ],
   "source": [
    "List = [1,2,3,4,5]\n",
    "print([x ** 2 for x in List]) #リスト内包表記で作られたリストをprint"
   ]
  },
  {
   "cell_type": "markdown",
   "metadata": {},
   "source": [
    "while文<br>\n",
    "while文はwhile (条件文):のあとに処理を書く\n",
    "```python\n",
    "while (条件文):\n",
    "    (処理)\n",
    "```\n",
    "while文は条件がTrueであり続ける限り, 実行され続ける。そのため、条件がなりたたなくなるような処理を絶対に書かなくてはならない"
   ]
  },
  {
   "cell_type": "code",
   "execution_count": 18,
   "metadata": {},
   "outputs": [
    {
     "name": "stdout",
     "output_type": "stream",
     "text": [
      "5\n",
      "4\n",
      "3\n",
      "2\n",
      "1\n"
     ]
    }
   ],
   "source": [
    "i = 5\n",
    "while i > 0:\n",
    "    print(i)\n",
    "    i -= 1"
   ]
  },
  {
   "cell_type": "markdown",
   "metadata": {},
   "source": [
    "条件文のところにリストを置くこともできる。この場合、リストに要素があり続ける限り実行され続ける。<br>\n",
    "popでリストから要素を取り出していった時の挙動を確認しよう"
   ]
  },
  {
   "cell_type": "code",
   "execution_count": 19,
   "metadata": {},
   "outputs": [
    {
     "name": "stdout",
     "output_type": "stream",
     "text": [
      "5\n",
      "4\n",
      "3\n",
      "2\n",
      "1\n"
     ]
    }
   ],
   "source": [
    "l = [1,2,3,4,5]\n",
    "while l:\n",
    "    a = l.pop()\n",
    "    print(a)"
   ]
  },
  {
   "cell_type": "markdown",
   "metadata": {},
   "source": [
    "#### 関数"
   ]
  },
  {
   "cell_type": "markdown",
   "metadata": {},
   "source": [
    "関数とは複数行に跨る処理を一気にやってしまおうとするものである。<br>\n",
    "関数はpythonでは以下のように定義する<br>\n",
    "```Python\n",
    "def (関数名):\n",
    "    (処理)\n",
    "    return (返り値)\n",
    "```\n",
    "簡単に1からnまでの和を求めるプログラムをここでは書いてみよう"
   ]
  },
  {
   "cell_type": "code",
   "execution_count": 20,
   "metadata": {},
   "outputs": [
    {
     "name": "stdout",
     "output_type": "stream",
     "text": [
      "55\n"
     ]
    }
   ],
   "source": [
    "def cumsum(n):\n",
    "    cumulative_sum = 0\n",
    "    for i in range(1, n+1):\n",
    "        cumulative_sum += i\n",
    "    return cumulative_sum\n",
    "print(cumsum(10))"
   ]
  },
  {
   "cell_type": "markdown",
   "metadata": {},
   "source": [
    "上で定義された関数cumsumの関数の実行の際にいれているnを引数と呼びます。<br>\n",
    "returnされる値を関数の返り値と呼びます。"
   ]
  },
  {
   "cell_type": "markdown",
   "metadata": {},
   "source": [
    "キーワード引数<br>\n",
    "引数の対応を明示的に指定して実行することもできます"
   ]
  },
  {
   "cell_type": "code",
   "execution_count": 21,
   "metadata": {},
   "outputs": [
    {
     "name": "stdout",
     "output_type": "stream",
     "text": [
      "8\n",
      "8\n"
     ]
    }
   ],
   "source": [
    "def power(x, y):\n",
    "    return x ** y #xのy乗を計算する\n",
    "print(power(x = 2, y = 3))\n",
    "print(power(y = 3, x = 2))"
   ]
  },
  {
   "cell_type": "markdown",
   "metadata": {},
   "source": [
    "デフォルト引数<br>\n",
    "引数を指定しなかった時に自動で代入される引数を決めることができます<br>\n",
    "下のpower関数はyが代入されなかった場合にはxの1乗を計算する"
   ]
  },
  {
   "cell_type": "code",
   "execution_count": 22,
   "metadata": {},
   "outputs": [
    {
     "name": "stdout",
     "output_type": "stream",
     "text": [
      "2\n"
     ]
    }
   ],
   "source": [
    "def power(x, y = 1):\n",
    "    return x ** y #xのy乗を計算する\n",
    "print(power(2))"
   ]
  },
  {
   "cell_type": "markdown",
   "metadata": {},
   "source": [
    "型ヒント<br>\n",
    "Pythonに型はないが、githubなどでは型が明示的に書いてあるコードが見れる。<br>\n",
    "ある数nが素数かいなかを判定する関数isPrimeでこの型ヒントを学んでみよう<br>\n",
    "基本形は以下の通りである。<br>\n",
    "```python\n",
    "def function(x: type, y: type)-> return type:\n",
    "```"
   ]
  },
  {
   "cell_type": "code",
   "execution_count": 23,
   "metadata": {},
   "outputs": [
    {
     "name": "stdout",
     "output_type": "stream",
     "text": [
      "True\n"
     ]
    }
   ],
   "source": [
    "def isPrime(n: int)->bool:\n",
    "    if n == 1:\n",
    "        return False\n",
    "    for i in range(2, n):\n",
    "        if n % i == 0:\n",
    "            return False\n",
    "    return True\n",
    "print(isPrime(5))"
   ]
  },
  {
   "cell_type": "markdown",
   "metadata": {},
   "source": [
    "再帰関数<br>\n",
    "再帰関数は関数の中で関数を実行させて処理を行う関数である。<br>\n",
    "再帰関数は必ず止まるように設計しなければならない<br>\n",
    "```python\n",
    "def function(引数):\n",
    "    if (停止条件):\n",
    "        return (停止条件時の返り値)\n",
    "    (停止条件でない時の処理)\n",
    "```"
   ]
  },
  {
   "cell_type": "markdown",
   "metadata": {},
   "source": [
    "例えば、ユークリッドの互助法を実装するときなどに再帰関数が使える<br>\n",
    "$$\n",
    "GCD(A, B) = GCD(B, A \\% B) \\, \\text(B ≠ 0の時)\n",
    "$$\n",
    "$$\n",
    "GCD(A, 1) = A \\, \\text(B = 0の時)\n",
    "$$\n",
    "ここで再帰関数を使うのは数式的にこうした定義になっているためである"
   ]
  },
  {
   "cell_type": "code",
   "execution_count": 24,
   "metadata": {},
   "outputs": [
    {
     "name": "stdout",
     "output_type": "stream",
     "text": [
      "1\n",
      "2\n",
      "5\n"
     ]
    }
   ],
   "source": [
    "def gcd(A, B):\n",
    "    A, B = max(A, B), min(A, B) #AがBより大きいことを示す\n",
    "    if B == 0:\n",
    "        return A\n",
    "    return gcd(B, A % B)\n",
    "print(gcd(2,3))\n",
    "print(gcd(2,4))\n",
    "print(gcd(5,25))"
   ]
  },
  {
   "cell_type": "markdown",
   "metadata": {},
   "source": [
    "他にも漸化式を実装するときなどに使える<br>\n",
    "ここではフィボナッチ数列を実装してみよう<br>\n",
    "$$\n",
    "a_{n+2} = a_{n+1} + a_{n} \\, \\text(nが2より大きい時)\n",
    "$$\n",
    "$$\n",
    "a_{n} = 1 \\, \\text(n = 0もしくはn = 1の時)\n",
    "$$"
   ]
  },
  {
   "cell_type": "code",
   "execution_count": 25,
   "metadata": {},
   "outputs": [
    {
     "name": "stdout",
     "output_type": "stream",
     "text": [
      "2\n",
      "89\n"
     ]
    }
   ],
   "source": [
    "def fibonacci(n):\n",
    "    if n == 0 or n == 1:\n",
    "        return 1\n",
    "    return fibonacci(n-1) + fibonacci(n-2)\n",
    "print(fibonacci(2))\n",
    "print(fibonacci(10))"
   ]
  },
  {
   "cell_type": "markdown",
   "metadata": {},
   "source": [
    "他にも再帰関数を使うケースはxのn乗の計算を以下のように考えて計算を削減する方法などがあります<br>\n",
    "$$\n",
    "x^n = (x^2)^{\\frac{n}{2}} \\, \\text(nが偶数の時)\n",
    "$$\n",
    "$$\n",
    "x^n = x(x^2)^{\\frac{n-1}{2}} \\, \\text(nが奇数の時)\n",
    "$$"
   ]
  },
  {
   "cell_type": "markdown",
   "metadata": {},
   "source": [
    "ラムダ関数<br>\n",
    "ラムダ関数は\n",
    "```python\n",
    "lambda (関数の引数): (関数の出力)\n",
    "```\n",
    "という形で書く関数である。<br>\n",
    "lambdaを受けた変数は関数として振る舞う"
   ]
  },
  {
   "cell_type": "code",
   "execution_count": 26,
   "metadata": {},
   "outputs": [
    {
     "name": "stdout",
     "output_type": "stream",
     "text": [
      "<class 'function'>\n",
      "100\n",
      "10\n",
      "0\n",
      "2\n"
     ]
    }
   ],
   "source": [
    "pow_2 = lambda x: x**2\n",
    "print(type(pow_2))\n",
    "print(pow_2(10))\n",
    "relu = lambda x: x if x > 0 else 0 #このようにif文を混ぜることもできる\n",
    "print(relu(10))\n",
    "print(relu(-10))\n",
    "circle = lambda x,y: x**2 + y**2 #複数変数の場合はこのように定義する\n",
    "print(circle(1,1))"
   ]
  },
  {
   "cell_type": "markdown",
   "metadata": {},
   "source": [
    "ライブラリ<br>\n",
    "ここいらでPythonという言語の中で最も優れている機能であるライブラリについて解説する。<br>ライブラリはimport (ライブラリ名)でライブラリ\n",
    "を読み込み, (ライブラリ名).(ライブラリ内部で定義されている名前)で<br>ライブラリ内部の関数や変数を呼び出す。<br>"
   ]
  },
  {
   "cell_type": "code",
   "execution_count": 27,
   "metadata": {},
   "outputs": [
    {
     "name": "stdout",
     "output_type": "stream",
     "text": [
      "3.141592653589793\n",
      "0.0\n",
      "2.718281828459045\n",
      "8.0\n"
     ]
    }
   ],
   "source": [
    "import math #mathライブラリは数学で使う定数などがまとめられたもの, \n",
    "print(math.pi) #mathライブラリの関数や定数を呼び出す時はmathを前につける\n",
    "print(math.log(1))\n",
    "from math import exp #from (ライブラリ) import (関数や変数)で読み込んだものはmathを前につけなくても動く\n",
    "print(exp(1))\n",
    "import math as m #ライブラリ名が長いときはこのように短縮した名前などをasで指定する\n",
    "print(m.pow(2,3)) #pow関数はpow(x, y)の時xのy乗を計算する"
   ]
  },
  {
   "cell_type": "markdown",
   "metadata": {},
   "source": [
    "Pythonに最初から入っているライブラリのことを標準ライブラリと呼ぶ。<br>\n",
    "実は、それだけでもかなり多い[Python標準ライブラリ](https://docs.python.org/ja/3/library/index.html)<br>\n",
    "このため、実際にプログラミングを行うときはChatGPTやGoogle検索なんかに<br>\n",
    "```ChatGPT\n",
    "Pythonで自動でメールを送るプログラムを作るコードを書いて\n",
    "```\n",
    "などと質問し、そこで出てきたライブラリを使うのがゼロから作るよりも早かったりする。<br>\n",
    "もちろん、機械学習なんかもscikit-learnやPytorch, Tensorflowなどの外部ライブラリがあるので、[ゼロから](https://www.amazon.co.jp/ゼロから作るDeep-Learning-―Pythonで学ぶディープラーニングの理論と実装-斎藤-康毅/dp/4873117585/ref=asc_df_4873117585/?tag=jpgo-22&linkCode=df0&hvadid=295686767484&hvpos=&hvnetw=g&hvrand=16892698219903455766&hvpone=&hvptwo=&hvqmt=&hvdev=c&hvdvcmdl=&hvlocint=&hvlocphy=1009279&hvtargid=pla-526224399321&psc=1&th=1&psc=1)作る必要はない(しかしもちろんそうしたライブラリの中身を理解することは大切)<br>\n",
    "外部ライブラリを利用したい場合は, コマンドラインで<br>\n",
    "```bash\n",
    "pip install (library name)\n",
    "```\n",
    "と書けば良い。pipは[PiPY(Python Package Index)](https://pypi.org)リポジトリにアクセスし、ライブラリを環境にインストールするコマンドである。<br>\n"
   ]
  },
  {
   "cell_type": "markdown",
   "metadata": {},
   "source": [
    "しかし、PythonをいじっているとPiPYには登録されていないけどGithubにあるコードを使いたくなる時がある。<br>\n",
    "今回はそうした時に使えるようにPythonのライブラリを簡単に学んでおこう"
   ]
  },
  {
   "cell_type": "markdown",
   "metadata": {},
   "source": [
    "まずはターミナルを開き, cdコマンドなどでこのipynbファイルがあるフォルダに移動してこよう(詳しいことは調べるか発表者に聞こう)\n",
    "```zsh\n",
    "mkdir mylib\n",
    "touch mylib/printhello.py\n",
    "```\n",
    "と入力しよう。(上のコマンドはMac, Linuxのみで動作します。WindowsのPowershellだとそれぞれmkdir, New-Itemあたりのコマンドが対応します。)<br>\n",
    "制作したprinthello.pyには\n",
    "```python\n",
    "PI = 3.14159265358979\n",
    "def printhello():\n",
    "    print(\"Hello!\")\n",
    "```\n",
    "とだけ書き込んでおこう。<br>\n",
    "これを行った後次のコマンドを実行しよう"
   ]
  },
  {
   "cell_type": "code",
   "execution_count": 28,
   "metadata": {},
   "outputs": [
    {
     "name": "stdout",
     "output_type": "stream",
     "text": [
      "Hello!\n",
      "3.14159265358979\n"
     ]
    }
   ],
   "source": [
    "import mylib.printhello as printhello #ディレクトリの中にあるpyファイルは(ディレクトリ名).(ファイル名)のように指定する\n",
    "printhello.printhello()\n",
    "print(printhello.PI)"
   ]
  },
  {
   "cell_type": "code",
   "execution_count": 29,
   "metadata": {},
   "outputs": [
    {
     "name": "stdout",
     "output_type": "stream",
     "text": [
      "Hello!\n",
      "3.14159265358979\n"
     ]
    }
   ],
   "source": [
    "from mylib.printhello import printhello, PI #これはmylib/printhello.py内部にあるprinthello関数とPIのみを取り出してくることを意味する\n",
    "printhello()\n",
    "print(PI)"
   ]
  },
  {
   "cell_type": "markdown",
   "metadata": {},
   "source": [
    "このように、作業しているディレクトリにあるpyファイルやディレクトリはライブラリとして読み込むことができる<br>\n",
    "gitなどにあるコードをライブラリとして使用する場合は作業場所にcloneして使えば良い<br>\n",
    "<br>\n",
    "では, pipでインストールされたライブラリは作業しているディレクトリにないのに何故読み込めるのだろうか<br>\n",
    "実はライブラリを読み込む際はPythonはPATHと呼ばれるものの中にあるライブラリを参照している。<br>\n",
    "下のコードを実行してどこに実行している環境のPythonのPATHが通っているのかを確認しよう。"
   ]
  },
  {
   "cell_type": "code",
   "execution_count": null,
   "metadata": {},
   "outputs": [],
   "source": [
    "import sys\n",
    "print(sys.path) #個人情報なので実行したらgithubに上げる前に消すこと"
   ]
  },
  {
   "cell_type": "markdown",
   "metadata": {},
   "source": [
    "このPATHのどこかにpipでインストールしたものが入っているはずである。確認してみよう。<br>\n",
    "逆に, インストールしたのにライブラリがimportできない場合はPATHが通っているか確認してみよう<br>"
   ]
  },
  {
   "cell_type": "markdown",
   "metadata": {},
   "source": [
    "#### 例外処理\n",
    "例外処理はエラーが起きると考えられる箇所に書くことで実行を止めてエラーを起こさせてプログラムを停止させたり<br>\n",
    "例外が起きてもプログラムを動かし続けるために必要なものです。例外処理の基本の型は以下の通りです。<br>\n",
    "```python\n",
    "try:\n",
    "    (エラーが起きるかもしれないコード)\n",
    "except:\n",
    "    continue (エラーが起きてもコードを続けたい場合など)\n",
    "    raise ValueError(\"エラーが起きました\") (コードを停止したい場合)\n",
    "```\n",
    "Pythonのエラー文はしっかり落ち着いて読めば理解できるものが多いですが中にはわかりにくいエラーに遭遇する時もあります。<br>\n",
    "こうした時try-except文で自分なりのエラー文を書くことでコードを動かす人が読みやすくなります\n"
   ]
  },
  {
   "cell_type": "markdown",
   "metadata": {},
   "source": [
    "```Python\n",
    "dictionary = {\"hoge\": None,  \"huga\": None}\n",
    "try:\n",
    "    print(dictionary[\"hogehuga\"])\n",
    "except:\n",
    "    raise ValueError(\"そんな要素はない\")\n",
    "\n",
    "---------------------------------------------------------------------------\n",
    "KeyError                                  Traceback (most recent call last)\n",
    "Cell In[1], line 3\n",
    "      2 try:\n",
    "----> 3     print(dictionary[\"hogehuga\"])\n",
    "      4 except:\n",
    "\n",
    "KeyError: 'hogehuga'\n",
    "\n",
    "During handling of the above exception, another exception occurred:\n",
    "\n",
    "ValueError                                Traceback (most recent call last)\n",
    "Cell In[1], line 5\n",
    "      3     print(dictionary[\"hogehuga\"])\n",
    "      4 except:\n",
    "----> 5     raise ValueError(\"そんな要素はない\")\n",
    "\n",
    "ValueError: そんな要素はない\n",
    "```"
   ]
  },
  {
   "cell_type": "markdown",
   "metadata": {},
   "source": [
    "これの他にも, try-except文を使うことで辞書型などのkeyエラーを回避し, 要素の追加がしやすくなります。"
   ]
  },
  {
   "cell_type": "code",
   "execution_count": 31,
   "metadata": {},
   "outputs": [
    {
     "name": "stdout",
     "output_type": "stream",
     "text": [
      "prev dictionary {'hoge': 0, 'huga': 0}\n",
      "after dictionary {'hoge': 1, 'huga': 1, 'hogehuga': 1, 'hugahoge': 1}\n"
     ]
    }
   ],
   "source": [
    "dictionary = {\"hoge\": 0,  \"huga\": 0}\n",
    "print(\"prev dictionary\", dictionary)\n",
    "for key in [\"hoge\", \"huga\", \"hogehuga\", \"hugahoge\"]:\n",
    "    try:\n",
    "        dictionary[key] += 1\n",
    "    except:\n",
    "        dictionary[key] = 1\n",
    "print(\"after dictionary\", dictionary)"
   ]
  },
  {
   "cell_type": "markdown",
   "metadata": {},
   "source": [
    "#### クラス\n",
    "一番重要な場所です。「クラスってなんですか?」と問われると, 説明が本一冊ぐらいになるらしいのですが(オブジェクト指向というプログラミング上での思想がある)<br>\n",
    "とりあえずここでは便利な関数や数値をひとまとめにしたものとして考えましょう。"
   ]
  },
  {
   "cell_type": "markdown",
   "metadata": {},
   "source": [
    "クラスの定義は以下のテンプレートで行います。<br>\n",
    "```python\n",
    "class (クラス名):\n",
    "    def __init__(self, (他の初期化引数)):\n",
    "        ...\n",
    "    \n",
    "    def (クラスが持っていて欲しい関数):\n",
    "        ...\n",
    "    \n",
    "```\n",
    "というふうに実装します。<br>\n",
    "<br>\n",
    "このクラスというものはPythonに限らずJavaScriptやC++などのオブジェクト指向言語ならば必ず登場します。<br>\n",
    "また, オブジェクト指向言語で作られたライブラリやフレームワークを使うときはこのクラスを理解していないがためにうまく扱えないことがほとんどです。<br>\n",
    "これを機に覚えてしまいましょう"
   ]
  },
  {
   "cell_type": "markdown",
   "metadata": {},
   "source": [
    "クラスはまず初期化の際に__init__関数が実行されます。__init__関数の引数には必ずselfを含んでください。<br>\n",
    "selfは自分自身を意味するものであり、クラス内部の関数やメンバ変数をクラス内部で扱うときに使います(詳しくは後述)<br>"
   ]
  },
  {
   "cell_type": "markdown",
   "metadata": {},
   "source": [
    "まずは組んでみましょう。class Personはname, ageという二つのプロバティを持ち, greetingsという関数(クラス内で定義される関数はメソッドと呼ぶ)を持ちます。<br>"
   ]
  },
  {
   "cell_type": "code",
   "execution_count": 32,
   "metadata": {},
   "outputs": [],
   "source": [
    "class Person:\n",
    "    def __init__(self, name: str, age: int)->None:\n",
    "        self.name = name\n",
    "        self.age = age\n",
    "    def greetings(self)->None:\n",
    "        print(f\"My name is {self.name}. I am {self.age}\") #"
   ]
  },
  {
   "cell_type": "markdown",
   "metadata": {},
   "source": [
    "上のコードの解説をします。class Personが最初に実行される時, __init__関数がまず最初に実行されます。<br>\n",
    "この時, 上のコードではself, name, ageが引数に入っていますが, selfは自動で入るためnameとageをクラスの最初の実行の際には引数に入れましょう。<br>\n",
    "__init__やgreetingsのクラス内部の関数の最初の引数は必ずselfにしておきましょう。(お作法的な意味&事故を防ぐために)<br>\n",
    "<br>\n",
    "まずinitが実行されるとクラス自身を表すselfのself.nameとself.ageにクラスが最初に実行される時の引数のnameとageが代入されます。<br>\n",
    "これらの引数にはclass Personの定義語にアクセスが可能です(下のコード参照)<br>\n",
    "<br>\n",
    "また, classで定義された__init__以外の関数には関数名のあとに()をつけることで呼び出しができます。<br>\n",
    "クラス内部で__init__で定義された変数を使いたい場合には, 上のコードのように関数の引数にselfを加えて<br>\n",
    "(例えばgreetings(self)のように), self.nameやself.ageのようにして呼び出して使います。<br>"
   ]
  },
  {
   "cell_type": "code",
   "execution_count": 33,
   "metadata": {},
   "outputs": [
    {
     "name": "stdout",
     "output_type": "stream",
     "text": [
      "<class '__main__.Person'>\n",
      "Tanaka\n",
      "19\n",
      "My name is Tanaka. I am 19\n"
     ]
    }
   ],
   "source": [
    "person = Person(\"Tanaka\", 19)\n",
    "print(type(person))\n",
    "print(person.name) #initで代入されたnameはperson.nameに表示される\n",
    "print(person.age)\n",
    "person.greetings() "
   ]
  },
  {
   "cell_type": "markdown",
   "metadata": {},
   "source": [
    "初めて学ぶ人にはクラスを学ぶ意味は薄く思えてしまうかもしれません(関数でよくないか?と思うかもしれません)<br>\n",
    "しかし, Pythonで実際にみられるコードはクラスを使ったものがほとんどであり, <br>\n",
    "Pythonを理解して他人のコードを見るためにクラスの理解は必要不可欠です。今はわからなくてもしっかり学んでおきましょう。"
   ]
  },
  {
   "cell_type": "markdown",
   "metadata": {},
   "source": [
    "Tensorflow, Pytorchの例<br>\n",
    "<img src=\"https://img.logmi.jp/article_images/AWd79enqJtPvJQbhyZ9bTF.png\" width=75% height=75%>"
   ]
  },
  {
   "cell_type": "markdown",
   "metadata": {},
   "source": [
    "Djangoの例<br>\n",
    "<img src=\"https://i.stack.imgur.com/hO7Gq.png\" width=75% height=75%>"
   ]
  },
  {
   "cell_type": "markdown",
   "metadata": {},
   "source": [
    "クラスについてもう少し進んだ理解をしましょうPythonで実装されているもののほとんどは実はクラスです。<br>"
   ]
  },
  {
   "cell_type": "code",
   "execution_count": 34,
   "metadata": {},
   "outputs": [
    {
     "name": "stdout",
     "output_type": "stream",
     "text": [
      "<class 'list'>\n",
      "<class 'dict'>\n",
      "<class 'range'>\n",
      "<class 'int'>\n",
      "<class 'float'>\n",
      "<class 'complex'>\n"
     ]
    }
   ],
   "source": [
    "print(type(list()))\n",
    "print(type(dict()))\n",
    "print(type(range(0)))\n",
    "print(type(1))\n",
    "print(type(1.0))\n",
    "print(type(1+1j))"
   ]
  },
  {
   "cell_type": "markdown",
   "metadata": {},
   "source": [
    "今まで紹介してきたリスト, 辞書, rangeなども, そしてint, float, complexなども<br>\n",
    "全てPythonではクラスとして実装されています。<br>\n"
   ]
  },
  {
   "cell_type": "markdown",
   "metadata": {},
   "source": [
    "以下のコードは先の辞書の解説に使ったコードです。このコードにおいて、<br>\n",
    "keys(), values(), items()は辞書クラスで実装されているメンバ関数(メソッド)として解釈することができます。<br>"
   ]
  },
  {
   "cell_type": "code",
   "execution_count": 35,
   "metadata": {},
   "outputs": [
    {
     "name": "stdout",
     "output_type": "stream",
     "text": [
      "16\n",
      "dict_keys(['Bob', 'Mary', 'Ken'])\n",
      "dict_values([16, 18, 17])\n",
      "dict_items([('Bob', 16), ('Mary', 18), ('Ken', 17)])\n"
     ]
    }
   ],
   "source": [
    "dictionary = {\"Bob\":16, \"Mary\":18, \"Ken\": 17}\n",
    "print(dictionary[\"Bob\"]) #dict[key]でそのkeyのvalueを確認できる\n",
    "print(dictionary.keys()) #.keysメソッドでkeyを確認できる\n",
    "print(dictionary.values()) #.valuesメソッドでvalueを確認できる\n",
    "print(dictionary.items()) #.itemsで(key, value)のtupleで辞書の中身を確認できる\n",
    "#上で述べたkeys, values, itemsは後に解説するfor文で中身を取り出すときに使われる"
   ]
  },
  {
   "cell_type": "markdown",
   "metadata": {},
   "source": [
    "##### 継承"
   ]
  },
  {
   "cell_type": "markdown",
   "metadata": {},
   "source": [
    "継承とは、すでにあるクラスの関数とメンバ変数を引き継ぎ, 新たな機能を追加するときに使われるものです。<br>\n",
    "先に作ったPersonクラスに身長と体重の変数を追加し, 新たな関数を追加したMorePersonクラスを制作しましょう。<br>"
   ]
  },
  {
   "cell_type": "code",
   "execution_count": 36,
   "metadata": {},
   "outputs": [
    {
     "name": "stdout",
     "output_type": "stream",
     "text": [
      "Tanaka\n",
      "19\n",
      "170.0\n",
      "60.0\n",
      "My name is Tanaka. I am 19\n",
      "Height: 170.0, Weight: 60.0\n"
     ]
    }
   ],
   "source": [
    "class Person:\n",
    "    def __init__(self, name: str, age: int)->None:\n",
    "        self.name = name\n",
    "        self.age = age\n",
    "    def greetings(self)->None:\n",
    "        print(f\"My name is {self.name}. I am {self.age}\") #\n",
    "\n",
    "class MorePerson(Person):\n",
    "    def __init__(self, name: str, age: int, height: float, weight: float)->None:\n",
    "        super().__init__(name, age)  #<-Person(name, age)と同じ意味\n",
    "        #superで継承元(今回はPerson)の初期化を行う, この時superの位置の置き方は\n",
    "        #基本initの後ろだがsuperの置き方にはいろいろあるので調べて欲しい\n",
    "        self.height = height\n",
    "        self.weight = weight\n",
    "        #__init__が呼び出されると継承元のPersonのgreetings関数とself.name, self.ageに代入されている\n",
    "    def health_check(self):\n",
    "        print(f\"Height: {self.height}, Weight: {self.weight}\")\n",
    "\n",
    "person = MorePerson(\"Tanaka\", 19, 170.0, 60.0)\n",
    "print(person.name)\n",
    "print(person.age)\n",
    "print(person.height)\n",
    "print(person.weight)\n",
    "person.greetings()\n",
    "person.health_check()"
   ]
  },
  {
   "cell_type": "markdown",
   "metadata": {},
   "source": [
    "せっかく身長が追加されたのでgreetings関数に身長の自己紹介を追加したくなる人もいるかもしれない、<br>\n",
    "そこで, greetings関数を書き換えよう。MorePersonを継承したMostPersonクラスを作り, greetingsメソッドを書き換えよう<br>\n",
    "この書き換えのことを**オーバーライド**と呼ぶ"
   ]
  },
  {
   "cell_type": "code",
   "execution_count": 37,
   "metadata": {},
   "outputs": [
    {
     "name": "stdout",
     "output_type": "stream",
     "text": [
      "Tanaka\n",
      "19\n",
      "170.0\n",
      "60.0\n",
      "My name is Tanaka. I am 19. I am 170.0cm tall.\n",
      "Height: 170.0, Weight: 60.0\n"
     ]
    }
   ],
   "source": [
    "class MostPerson(MorePerson):\n",
    "    def __init__(self, name: str, age: int, height: float, weight: float)->None:\n",
    "        super().__init__(name, age, height, weight)\n",
    "    \n",
    "    def greetings(self) -> None:\n",
    "        print(f\"My name is {self.name}. I am {self.age}. I am {self.height}cm tall.\") \n",
    "        #これで継承元のクラスにある関数の挙動を変更できた。\n",
    "\n",
    "person = MostPerson(\"Tanaka\", 19, 170.0, 60.0)\n",
    "print(person.name)\n",
    "print(person.age)\n",
    "print(person.height)\n",
    "print(person.weight)\n",
    "person.greetings()\n",
    "person.health_check()"
   ]
  },
  {
   "cell_type": "markdown",
   "metadata": {},
   "source": [
    "##### 特殊メソッド\n",
    "クラスのより深い内容に踏み込みます。<br>\n",
    "ここで紹介するのは特殊メソッドというものです。<br>\n",
    "今までのメソッドは\n",
    "```python\n",
    "Person.greetings()\n",
    "```\n",
    "のようにクラスの後に関数名を書き()の中に必要な引数をいれることで実行していました。<br>\n",
    "特殊メソッドとはこのように実行されるものではなく, +-%/などの演算子記号や, []などの鉤括弧に対して<br>\n",
    "クラスがどういった挙動を示すのかを定義するものです。<br>\n",
    "<br>\n",
    "いくつかの特殊メソッド(メソッドとはクラス内部で定義される関数のことです)を紹介します。<br>\n",
    "特殊メソッドを学びながらステップバイステップで数学におけるベクトルを定義しましょう。\n",
    "$$\n",
    "v \\in \\mathbb{R^n} \\, \\, v = [v_{1}, v_{2}, ..., v_{n}]\n",
    "$$"
   ]
  },
  {
   "cell_type": "code",
   "execution_count": 38,
   "metadata": {},
   "outputs": [
    {
     "name": "stdout",
     "output_type": "stream",
     "text": [
      "<__main__.Vector object at 0x1107659d0>\n"
     ]
    }
   ],
   "source": [
    "class Vector:\n",
    "    def __init__(self, components: list):\n",
    "        self.components = components\n",
    "        #Vectorクラスをinitだけ書いた\n",
    "\n",
    "components_v = [1,2,3,4,5]\n",
    "components_u = [6,7,8,9,10]\n",
    "v = Vector(components_v)\n",
    "u = Vector(components_u)\n",
    "print(v)"
   ]
  },
  {
   "cell_type": "markdown",
   "metadata": {},
   "source": [
    "とりあえず2つのベクトルを定義してprint関数で呼び出してみましたが, <\\_\\_main\\_\\_.Vector object at ...><br>\n",
    "などといった謎の表示が出てしまいました。さらに, ここでベクトルの1番目の要素を取り出そうとして、<br>\n",
    "```python\n",
    "print(v[0])\n",
    "```\n",
    "を実行しようとしてみました。すると\n",
    "```Python\n",
    "---------------------------------------------------------------------------\n",
    "TypeError                                 Traceback (most recent call last)\n",
    "Cell In[32], line 9\n",
    "      7 u = Vector(components_u)\n",
    "      8 print(v)\n",
    "----> 9 print(v[0])\n",
    "\n",
    "TypeError: 'Vector' object is not subscriptable\n",
    "```"
   ]
  },
  {
   "cell_type": "markdown",
   "metadata": {},
   "source": [
    "などというエラーが出てしまいました。これはVectorクラスに以下の問題点があるためです。<br>\n",
    "1. print関数などの標準出力に対してどのように処理するべきか定義されていない<br>\n",
    "2. v[0]のように[]に対してどう処理すべきかが定義されていない<br>\n",
    "\n",
    "そんなことまで定義しなければならないのかと思いますが, これがクラスで気をつけなければならないことになります。<br>\n",
    "定義されてない動作は基本的には上手く働きません。<br>\n"
   ]
  },
  {
   "cell_type": "markdown",
   "metadata": {},
   "source": [
    "print関数などの標準出力に対する挙動を決めるものを__str__メソッドと呼び, []に対する処理を__getitem__メソッドと呼びます。<br>\n",
    "(余談ですが()に対する処理を__call__メソッドなどと呼びます。Pythonの特殊メソッドは奥が深いため興味のある人はさらに調べてみてください->[特殊メソッド](https://qiita.com/y518gaku/items/07961c61f5efef13cccc))"
   ]
  },
  {
   "cell_type": "markdown",
   "metadata": {},
   "source": [
    "まずは__str__メソッドと__getitem__メソッドを実装しましょう。<br>"
   ]
  },
  {
   "cell_type": "code",
   "execution_count": 39,
   "metadata": {},
   "outputs": [
    {
     "name": "stdout",
     "output_type": "stream",
     "text": [
      "Vector[1, 2, 3, 4, 5]\n",
      "1\n",
      "Vector[4, 5]\n"
     ]
    }
   ],
   "source": [
    "class Vector:\n",
    "    def __init__(self, components: list):\n",
    "        self.components = components\n",
    "        #Vectorクラスをinitだけ書いた\n",
    "\n",
    "    def __getitem__(self, idx):\n",
    "        if isinstance(idx, slice):\n",
    "            return Vector(self.components[idx])\n",
    "        return self.components[idx] #ここでidxがlist型に対応していないものならばエラーを吐いてくれることを期待する\n",
    "\n",
    "    def __str__(self):\n",
    "        return f\"Vector{self.components}\"\n",
    "\n",
    "components_v = [1,2,3,4,5]\n",
    "components_u = [6,7,8,9,10]\n",
    "v = Vector(components_v)\n",
    "u = Vector(components_u)\n",
    "print(v)\n",
    "print(v[0])\n",
    "print(v[3:5])"
   ]
  },
  {
   "cell_type": "markdown",
   "metadata": {},
   "source": [
    "そして実は, for文は__getitem__メソッドを利用して動いている。<br>\n",
    "__getitem__メソッドを追加したことでfor文で自作Vectorクラスが動くことを確認しよう。<br>"
   ]
  },
  {
   "cell_type": "code",
   "execution_count": 40,
   "metadata": {},
   "outputs": [
    {
     "name": "stdout",
     "output_type": "stream",
     "text": [
      "1\n",
      "2\n",
      "3\n",
      "4\n",
      "5\n"
     ]
    }
   ],
   "source": [
    "for i in v:\n",
    "    print(i)"
   ]
  },
  {
   "cell_type": "markdown",
   "metadata": {},
   "source": [
    "次にベクトル同士の足し算を実装しよう。<br>\n",
    "現段階までのVectorクラスvとuで足し算を行おうとすると以下のようなエラーが出る<br>"
   ]
  },
  {
   "cell_type": "markdown",
   "metadata": {},
   "source": [
    "```Python\n",
    "v+u\n",
    "---------------------------------------------------------------------------\n",
    "TypeError                                 Traceback (most recent call last)\n",
    "Cell In[20], line 1\n",
    "----> 1 v+u\n",
    "\n",
    "TypeError: unsupported operand type(s) for +: 'Vector' and 'Vector'\n",
    "```"
   ]
  },
  {
   "cell_type": "markdown",
   "metadata": {},
   "source": [
    "これはVectorクラスにおいて足し算を行ったときの挙動がないことを意味する<br>\n",
    "この時は, 足し算を行うときの挙動を示す足し算メソッド__add__を実装すれば良い。<br>"
   ]
  },
  {
   "cell_type": "code",
   "execution_count": 41,
   "metadata": {},
   "outputs": [
    {
     "name": "stdout",
     "output_type": "stream",
     "text": [
      "Vector[7, 9, 11, 13, 15]\n"
     ]
    }
   ],
   "source": [
    "class Vector:\n",
    "    def __init__(self, components: list):\n",
    "        self.components = components\n",
    "        #Vectorクラスをinitだけ書いた\n",
    "\n",
    "    def __getitem__(self, idx):\n",
    "        if isinstance(idx, slice):\n",
    "            return Vector(self.components[idx])\n",
    "        return self.components[idx] #ここでidxがlist型に対応していないものならばエラーを吐いてくれることを期待する\n",
    "\n",
    "    def __str__(self):\n",
    "        return f\"Vector{self.components}\"\n",
    "\n",
    "    def __len__(self):\n",
    "        return len(self.components)\n",
    "\n",
    "    def __add__(self, other_vector: Vector):\n",
    "        if len(self) != len(other_vector):\n",
    "            raise ValueError(\"Vectors must have the same length for addition.\")\n",
    "        result = [0] * len(self)\n",
    "        for i in range(len(self)):\n",
    "            result[i] = self[i] + other_vector[i]\n",
    "        return Vector(result)\n",
    "\n",
    "components_v = [1,2,3,4,5]\n",
    "components_u = [6,7,8,9,10]\n",
    "v = Vector(components_v)\n",
    "u = Vector(components_u)\n",
    "print(v+u)"
   ]
  },
  {
   "cell_type": "markdown",
   "metadata": {},
   "source": [
    "##### listを継承して実装する方法\n",
    "listを継承して作る時はlistで__getitem__や__len__は定義されているので(実際, リストはこれらのメソッドが定義されているように動く)<br>\n",
    "実装するのは__add__のみでよい。listの場合, [1,2,3,4,5] + [6,7,8,9,10] = [1,2,3,4,5,6,7,8,9,10]であったが<br>\n",
    "Vectorクラスでは成分ごとの足し算を行うことが求められているので__add__のオーバーライドを行う必要がある"
   ]
  },
  {
   "cell_type": "code",
   "execution_count": 42,
   "metadata": {},
   "outputs": [
    {
     "name": "stdout",
     "output_type": "stream",
     "text": [
      "Vector[7, 9, 11, 13, 15]\n"
     ]
    }
   ],
   "source": [
    "class Vector(list):\n",
    "    def __init__(self, values: list):\n",
    "        super().__init__(values)\n",
    "\n",
    "    def __add__(self, other_vector):\n",
    "        if len(self) != len(other_vector):\n",
    "            raise ValueError(\"Vectors must have the same length for addition.\")\n",
    "        result = [x + y for x, y in zip(self, other_vector)]\n",
    "        return Vector(result)\n",
    "\n",
    "    def __str__(self):\n",
    "        return f\"Vector{super().__str__()}\"\n",
    "\n",
    "components_v = [1,2,3,4,5]\n",
    "components_u = [6,7,8,9,10]\n",
    "v = Vector(components_v)\n",
    "u = Vector(components_u)\n",
    "print(v+u)"
   ]
  },
  {
   "cell_type": "markdown",
   "metadata": {},
   "source": [
    "##### Class 練習問題\n",
    "上で定義したVectorクラスに(listを継承したものでもしていないものでもどちらでもよい)<br>\n",
    "掛け算と内積を定義せよ, 掛け算は__mul__メソッドを, 内積は__matmul__メソッドを定義することで実装ができる。<br>\n",
    "掛け算は二つのVectorクラスが与えられた際に全成分を掛け合わせるように実装を行うこと<br>\n",
    "二つのVectorクラス, v, uが与えられる時, __mul__メソッドを継承するとv * uで掛け算ができ, <br>\n",
    "__matmul__を継承するとv @ uでない席が計算できるようになることを確かめること"
   ]
  },
  {
   "cell_type": "code",
   "execution_count": 43,
   "metadata": {},
   "outputs": [],
   "source": [
    "class Vector(list):\n",
    "    def __init__(self, values: list):\n",
    "        super().__init__(values)\n",
    "\n",
    "    def __add__(self, other_vector):\n",
    "        if len(self) != len(other_vector):\n",
    "            raise ValueError(\"Vectors must have the same length for addition.\")\n",
    "        result = [x + y for x, y in zip(self, other_vector)]\n",
    "        return Vector(result)\n",
    "\n",
    "    def __str__(self):\n",
    "        return f\"Vector{super().__str__()}\"\n",
    "    \n",
    "    def __mul__(self, other_vector):\n",
    "        if len(self) != len(other_vector):\n",
    "            raise ValueError(\"Vectors must have the same length for multiply.\")\n",
    "        #WRITE#\n",
    "    \n",
    "    def __matmul__(self, other_vector):\n",
    "        if len(self) != len(other_vector):\n",
    "            raise ValueError(\"Vectors must have the same length for matmul\")\n",
    "        #WRITE#"
   ]
  },
  {
   "cell_type": "markdown",
   "metadata": {},
   "source": [
    "### ANSWER\n",
    "listを継承して作る方listで使えたメソッドはそのまま使えるため, 今回はlistを継承したVectorで制作する"
   ]
  },
  {
   "cell_type": "code",
   "execution_count": 44,
   "metadata": {},
   "outputs": [
    {
     "name": "stdout",
     "output_type": "stream",
     "text": [
      "Vector[6, 14, 24, 36, 50]\n",
      "130\n"
     ]
    }
   ],
   "source": [
    "class Vector(list):\n",
    "    def __init__(self, values: list):\n",
    "        super().__init__(values)\n",
    "\n",
    "    def __add__(self, other_vector):\n",
    "        if len(self) != len(other_vector):\n",
    "            raise ValueError(\"Vectors must have the same length for addition.\")\n",
    "        result = [x + y for x, y in zip(self, other_vector)]\n",
    "        return Vector(result)\n",
    "\n",
    "    def __str__(self):\n",
    "        return f\"Vector{super().__str__()}\"\n",
    "    \n",
    "    def __mul__(self, other_vector):\n",
    "        if len(self) != len(other_vector):\n",
    "            raise ValueError(\"Vectors must have the same length for multiply.\")\n",
    "        result = [x * y for x, y in zip(self, other_vector)]\n",
    "        return Vector(result)\n",
    "    \n",
    "    def __matmul__(self, other_vector):\n",
    "        if len(self) != len(other_vector):\n",
    "            raise ValueError(\"Vectors must have the same length for matmul\")\n",
    "        result = self * other_vector\n",
    "        return sum(result)\n",
    "\n",
    "components_v = [1,2,3,4,5]\n",
    "components_u = [6,7,8,9,10]\n",
    "v = Vector(components_v)\n",
    "u = Vector(components_u)\n",
    "print(v * u)\n",
    "print(v @ u)"
   ]
  },
  {
   "cell_type": "markdown",
   "metadata": {},
   "source": [
    "#### 有名ライブラリ"
   ]
  },
  {
   "cell_type": "code",
   "execution_count": null,
   "metadata": {},
   "outputs": [],
   "source": []
  },
  {
   "cell_type": "markdown",
   "metadata": {},
   "source": [
    "#### Python環境構築\n",
    "[【Python】M1/M2 MacでPython環境の構築（pyenvとvenvのインストールと設定、そして使い方）](https://namileriblog.com/python/python_pyenv_venv/)"
   ]
  },
  {
   "cell_type": "code",
   "execution_count": null,
   "metadata": {},
   "outputs": [],
   "source": []
  }
 ],
 "metadata": {
  "kernelspec": {
   "display_name": "Python 3.11.5 64-bit",
   "language": "python",
   "name": "python3"
  },
  "language_info": {
   "codemirror_mode": {
    "name": "ipython",
    "version": 3
   },
   "file_extension": ".py",
   "mimetype": "text/x-python",
   "name": "python",
   "nbconvert_exporter": "python",
   "pygments_lexer": "ipython3",
   "version": "3.11.5"
  },
  "orig_nbformat": 4,
  "vscode": {
   "interpreter": {
    "hash": "b0fa6594d8f4cbf19f97940f81e996739fb7646882a419484c72d19e05852a7e"
   }
  }
 },
 "nbformat": 4,
 "nbformat_minor": 2
}
